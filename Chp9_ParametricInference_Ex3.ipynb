{
 "cells": [
  {
   "cell_type": "markdown",
   "metadata": {},
   "source": [
    "### Chapter 9 - Parametric Inference Exercise 3\n",
    "Let $X_1,...,X_n \\sim N(\\mu, \\sigma^2)$. Let $\\tau$ be the 0.95 percentile, i.e $Pr(X<\\tau)=0.95$. <br>\n",
    "(a) Find the MLE of $\\tau$. <br>\n",
    "(b) Find an expression for an approximate $1-\\alpha$ confidence interval for $\\tau$.<br>\n",
    "(c) Generaate data from $X$ and find the MLE estimate $\\hat\\tau$. Find the standard error using the delta method. Find the standard error using the parametric bootstrap."
   ]
  },
  {
   "cell_type": "markdown",
   "metadata": {},
   "source": [
    "#### Summary\n",
    "The standard error of $\\tau$ can be derived analytically by delta method. An alternative to analytical approach is by parameteric bootstrap. Under certain assumptions, parametric bootstrap could give a good estimate of the standard error of an estimator. \n",
    "\n",
    "Besides solving the above problem, this notebook would put a closer look on different appraoches for estimating the standard error of $\\tau$. We would use both analytical approach and bootstrap approach to estimating the standard error of $\\tau$."
   ]
  },
  {
   "cell_type": "markdown",
   "metadata": {},
   "source": [
    "#### (a) Find the MLE of $\\tau$\n",
    "It is not difficult to find that the MLE of $\\tau$ has the following form:<br><br>\n",
    "\n",
    "<center> $\\hat\\tau = \\hat\\mu + z_{0.95} \\hat\\sigma$ </center>\n",
    "\n",
    "where $z_{0.95} = \\Theta^{-1}(0.95)$  ($i.e$ 95% quantile of a standard Normal)\n",
    "\n",
    "$\\hat\\mu = \\bar X_n$  ($i.e$ MLE of $\\mu$)\n",
    "\n",
    "$\\hat\\sigma = (\\sum_{i=1}^{n} (X - \\bar X_n)^{2}/n)^{1/2}$  ($i.e$ MLE of $\\sigma$)\n",
    "\n",
    "<br>\n",
    "Derivations:\n",
    "\n",
    "$\\Pr(X<\\tau) = \\Pr( (X-\\mu)/\\sigma < (\\tau-\\mu)/\\sigma) = \\Pr(Z<(\\tau-\\mu)/\\sigma) = 0.95 $\n",
    "\n",
    "$(\\tau-\\mu)/\\sigma = z_{0.95}$\n",
    "\n",
    "$\\tau = \\mu + z_{0.95} \\sigma = g(\\mu, \\sigma)$ \n",
    "\n",
    "$\\hat\\tau = g(\\hat\\mu, \\hat\\sigma)$   (By plug-in Methods)\n"
   ]
  },
  {
   "cell_type": "markdown",
   "metadata": {},
   "source": [
    "#### (b) Find an expression for an approximate  $1-\\alpha$ confidence interval for $\\tau$.\n",
    "Since $\\tau$ is a function of $\\mu$ and $\\sigma$, we could find the asymptotic distribution and standard error of $\\hat\\tau$ by delta method.\n",
    "\n",
    "Let $\\theta = \\begin{bmatrix} \\mu \\\\ \\sigma \\end{bmatrix}$. The MLE of $\\theta$ is asymptotically normal: <br><br>\n",
    "<center>\n",
    "$ \\begin{bmatrix}\n",
    "    \\hat\\mu \\\\\n",
    "    \\hat\\sigma\n",
    "\\end{bmatrix} -  \n",
    "\\begin{bmatrix}\n",
    "    \\mu \\\\\n",
    "    \\sigma\n",
    "\\end{bmatrix} \n",
    "\\sim N(0, J_n)\n",
    "$\n",
    "</center>\n",
    "\n",
    "\n",
    "where $J_n = \\begin{bmatrix}\n",
    "    \\sigma^{2}/n & 0 \\\\\n",
    "    0 & \\sigma^{2}/2n\n",
    "\\end{bmatrix}$\n",
    "\n",
    "<br><br>\n",
    "Let $\\tau = g(\\theta)$. Then, we know that $\\tau$ is asymptotically normal.<br><br>\n",
    "<center>\n",
    "$\\hat\\tau - \\tau \\sim N(0, se)$ </center>\n",
    "\n",
    "where $se = \\nabla g^{T}J_n \\nabla g = \\frac{\\sigma}{\\sqrt{n}}\\sqrt{1 + \\frac{z_{0.95}^{2}}{2}}$\n",
    "\n",
    "$\\nabla g$ is the gradient of $g$ with respect to $\\mu$ and $\\sigma$. \n",
    "\n",
    "$\\nabla g = \\begin{bmatrix} 1 \\\\ z_{0.95} \\end{bmatrix}$. <br><br>\n",
    "\n",
    "By plug-in methods, we could find the $(1-\\alpha)$ confidence interval for $\\hat\\tau$:<br><br>\n",
    "\n",
    "<center>\n",
    "$\\hat\\tau \\pm z_{0.95} \\frac{\\hat\\sigma}{\\sqrt{n}}\\sqrt{1 + \\frac{z_{0.95}^{2}}{2}}$"
   ]
  },
  {
   "cell_type": "markdown",
   "metadata": {},
   "source": [
    "#### (c) Generaate data from $X$ and find the MLE estimate $\\hat\\tau$. Find the standard error using the delta method. Find the standard error using the parametric bootstrap.\n",
    "The above illustrate the analytical approach to finding standard error. The method we deploy is delta method. Together with plug-in method, the derived estimated standard error is recapped below: <br><br>\n",
    "<center>\n",
    "$\\hat se = \\frac{\\hat\\sigma}{\\sqrt{n}}\\sqrt{1 + \\frac{z_{0.95}^{2}}{2}}$ </center>"
   ]
  },
  {
   "cell_type": "markdown",
   "metadata": {},
   "source": [
    "Besides analytical approach, we could estimated the standard error by parametric bootstrap. The procedures are as follows:\n",
    "1. Sample data $X_1,...,X_n \\sim N(\\mu,\\sigma^{2})$\n",
    "2. Estimate $\\mu, \\sigma$. In this case, we use MLE to get $\\hat\\mu, \\hat\\sigma$\n",
    "3. Resample the same number of data from $X^{b}_1,...,X^{b}_n \\sim N(\\hat\\mu, \\hat\\sigma)$\n",
    "4. Get the statistics $\\tau^{b}$ from $X^{b}_1,...,X^{b}_n $\n",
    "5. Repeat step 3 and step 4 B times\n",
    "6. With $\\tau^{1},...,\\tau^{B}$, calculate the estimated standard error of the statistics by the following: <br><br>\n",
    "<center>\n",
    "$\\hat se(\\tau) = {\\frac{1}{B-1} \\sum_{i=1}^{B} (\\tau^{i} - \\bar\\tau)}^{1/2}$ </center>\n",
    "\n",
    "Where $\\bar\\tau$ is the average of $\\tau^{1},...,\\tau^{B}.$\n",
    "\n",
    "For illustration. Lets do a simulation experiment for this!"
   ]
  },
  {
   "cell_type": "code",
   "execution_count": 4,
   "metadata": {},
   "outputs": [],
   "source": [
    "n <- 25\n",
    "x <- c(3.23, -2.50, 1.88, -0.68, 4.43, 0.17,\n",
    "          1.03, -0.07, -0.01, 0.76, 1.76, 3.18,\n",
    "          0.33, -0.31, 0.30, -0.61, 1.52, 5.43,\n",
    "          1.54, 2.28, 0.42, 2.33, -1.03, 4.00,\n",
    "          0.39)"
   ]
  },
  {
   "cell_type": "code",
   "execution_count": 5,
   "metadata": {},
   "outputs": [],
   "source": [
    "mle.mu <- mean(x)\n",
    "mle.sigma <- sqrt( ((n-1)/(n)) * var(x) )"
   ]
  },
  {
   "cell_type": "code",
   "execution_count": 6,
   "metadata": {},
   "outputs": [],
   "source": [
    "get_theta <- function(mu, sigma) {\n",
    "    return (mu + qnorm(0.95)*sigma)\n",
    "}"
   ]
  },
  {
   "cell_type": "code",
   "execution_count": 7,
   "metadata": {},
   "outputs": [],
   "source": [
    "B <- 10000\n",
    "theta <- get_theta(mle.mu, mle.sigma)\n",
    "retheta <- numeric(B)\n",
    "for (b in 1:B) {\n",
    "    resample.x <- sample(x, size = n, replace =TRUE)\n",
    "    resample.mu <- mean(resample.x)\n",
    "    resample.sigma <- sqrt( ((n-1)/(n)) * var(resample.x) )\n",
    "    retheta[b] <- get_theta(resample.mu, resample.sigma)\n",
    "}"
   ]
  },
  {
   "cell_type": "code",
   "execution_count": 9,
   "metadata": {},
   "outputs": [],
   "source": [
    "boot.se <- sqrt(var(retheta))"
   ]
  },
  {
   "cell_type": "code",
   "execution_count": 10,
   "metadata": {},
   "outputs": [
    {
     "name": "stdout",
     "output_type": "stream",
     "text": [
      "[1] \"The parametric bootstrap estimate of standard error = 0.636\"\n"
     ]
    }
   ],
   "source": [
    "print(paste0(\"The parametric bootstrap estimate of standard error = \", round(boot.se, 3)))"
   ]
  },
  {
   "cell_type": "code",
   "execution_count": 11,
   "metadata": {},
   "outputs": [],
   "source": [
    "get_se <- function(sigma) {\n",
    "    a <- sigma / sqrt(n)\n",
    "    b <- 1 + (qnorm(0.95)^2)/2\n",
    "    b <- sqrt(b)\n",
    "    return (a*b)\n",
    "}"
   ]
  },
  {
   "cell_type": "code",
   "execution_count": 12,
   "metadata": {},
   "outputs": [],
   "source": [
    "delta.se <- get_se(mle.sigma)"
   ]
  },
  {
   "cell_type": "code",
   "execution_count": 14,
   "metadata": {},
   "outputs": [
    {
     "name": "stdout",
     "output_type": "stream",
     "text": [
      "[1] \"The parametric estimate of standard error = 0.558\"\n"
     ]
    }
   ],
   "source": [
    "print(paste0(\"The parametric estimate of standard error = \", round(delta.se, 3)))"
   ]
  },
  {
   "cell_type": "markdown",
   "metadata": {},
   "source": [
    "The two estimates are fairly closed. When the sample size increases (i.e n), the two estimates will get even closer."
   ]
  },
  {
   "cell_type": "code",
   "execution_count": null,
   "metadata": {},
   "outputs": [],
   "source": []
  }
 ],
 "metadata": {
  "kernelspec": {
   "display_name": "R",
   "language": "R",
   "name": "ir"
  },
  "language_info": {
   "codemirror_mode": "r",
   "file_extension": ".r",
   "mimetype": "text/x-r-source",
   "name": "R",
   "pygments_lexer": "r",
   "version": "3.5.1"
  }
 },
 "nbformat": 4,
 "nbformat_minor": 2
}
